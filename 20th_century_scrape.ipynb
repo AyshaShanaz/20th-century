{
 "cells": [
  {
   "cell_type": "code",
   "execution_count": 1,
   "id": "649d4822-96f2-462c-8f2a-c5f13c1ce71a",
   "metadata": {},
   "outputs": [
    {
     "name": "stdout",
     "output_type": "stream",
     "text": [
      "Requirement already satisfied: requests in /Applications/anaconda3/lib/python3.12/site-packages (2.32.3)\n",
      "Requirement already satisfied: beautifulsoup4 in /Applications/anaconda3/lib/python3.12/site-packages (4.12.3)\n",
      "Requirement already satisfied: pandas in /Applications/anaconda3/lib/python3.12/site-packages (2.2.2)\n",
      "Requirement already satisfied: charset-normalizer<4,>=2 in /Applications/anaconda3/lib/python3.12/site-packages (from requests) (3.3.2)\n",
      "Requirement already satisfied: idna<4,>=2.5 in /Applications/anaconda3/lib/python3.12/site-packages (from requests) (3.7)\n",
      "Requirement already satisfied: urllib3<3,>=1.21.1 in /Applications/anaconda3/lib/python3.12/site-packages (from requests) (2.2.3)\n",
      "Requirement already satisfied: certifi>=2017.4.17 in /Applications/anaconda3/lib/python3.12/site-packages (from requests) (2025.1.31)\n",
      "Requirement already satisfied: soupsieve>1.2 in /Applications/anaconda3/lib/python3.12/site-packages (from beautifulsoup4) (2.5)\n",
      "Requirement already satisfied: numpy>=1.26.0 in /Applications/anaconda3/lib/python3.12/site-packages (from pandas) (1.26.4)\n",
      "Requirement already satisfied: python-dateutil>=2.8.2 in /Applications/anaconda3/lib/python3.12/site-packages (from pandas) (2.9.0.post0)\n",
      "Requirement already satisfied: pytz>=2020.1 in /Applications/anaconda3/lib/python3.12/site-packages (from pandas) (2024.1)\n",
      "Requirement already satisfied: tzdata>=2022.7 in /Applications/anaconda3/lib/python3.12/site-packages (from pandas) (2023.3)\n",
      "Requirement already satisfied: six>=1.5 in /Applications/anaconda3/lib/python3.12/site-packages (from python-dateutil>=2.8.2->pandas) (1.16.0)\n"
     ]
    }
   ],
   "source": [
    "\n",
    "!pip install requests beautifulsoup4 pandas  "
   ]
  },
  {
   "cell_type": "code",
   "execution_count": 2,
   "id": "ca6579a1-1458-4a76-add7-0f0aa9354db3",
   "metadata": {},
   "outputs": [],
   "source": [
    "import requests  \n",
    "from bs4 import BeautifulSoup  \n",
    "  \n",
    "url = \"https://en.wikipedia.org/wiki/20th_century\"  \n",
    "response = requests.get(url)  \n",
    "soup = BeautifulSoup(response.content, 'html.parser')  "
   ]
  },
  {
   "cell_type": "code",
   "execution_count": 3,
   "id": "1d95b3cf-527c-44a2-8261-b4a095f3b761",
   "metadata": {},
   "outputs": [],
   "source": [
    "  \n",
    "# Extract the main content  \n",
    "content = soup.find(id=\"mw-content-text\").get_text()  "
   ]
  },
  {
   "cell_type": "code",
   "execution_count": 4,
   "id": "25f5fa9e-92b6-46cf-bee6-e1bb4470140e",
   "metadata": {},
   "outputs": [],
   "source": [
    "# Save the content to a .txt file  \n",
    "with open('20th_century_events.txt', 'w', encoding='utf-8') as f:  \n",
    "    f.write(content)  "
   ]
  },
  {
   "cell_type": "code",
   "execution_count": 5,
   "id": "39d49a61-babc-405e-9186-c8616ffb2d1b",
   "metadata": {},
   "outputs": [
    {
     "name": "stdout",
     "output_type": "stream",
     "text": [
      "Content scraped and saved to 20th_century_events.txt\n"
     ]
    }
   ],
   "source": [
    "  \n",
    "print(\"Content scraped and saved to 20th_century_events.txt\") "
   ]
  },
  {
   "cell_type": "code",
   "execution_count": 6,
   "id": "5af04995-a204-4e4e-b58e-7f6b667bba3f",
   "metadata": {},
   "outputs": [
    {
     "name": "stdout",
     "output_type": "stream",
     "text": [
      "One hundred years, from 1901 to 2000\n",
      "For other uses, see 20th century (disambiguation).\n",
      "Earthrise, taken on December 24, 1968 by astronaut William \"Bill\" Anders during the Apollo 8 space mission. It was the first photograph taken of Earth from lunar orbit.\n",
      "\n",
      "Millennia\n",
      "2nd millennium\n",
      "\n",
      "Centuries\n",
      "19th century\n",
      "20th century\n"
     ]
    }
   ],
   "source": [
    "with open('20th_century_events.txt', 'r', encoding='utf-8') as f:  \n",
    "    for i in range(10):  \n",
    "        print(f.readline().strip()) "
   ]
  },
  {
   "cell_type": "code",
   "execution_count": 8,
   "id": "56d35534-3e79-4867-9455-a3f00028748a",
   "metadata": {},
   "outputs": [
    {
     "name": "stdout",
     "output_type": "stream",
     "text": [
      "[main (root-commit) 2fe2166] Scraped and saved 20th century events\n",
      " 2 files changed, 1037 insertions(+)\n",
      " create mode 100644 20th_century_events.txt\n",
      " create mode 100644 20th_century_scrape.ipynb\n",
      "fatal: The current branch main has no upstream branch.\n",
      "To push the current branch and set the remote as upstream, use\n",
      "\n",
      "    git push --set-upstream origin main\n",
      "\n",
      "To have this happen automatically for branches without a tracking\n",
      "upstream, see 'push.autoSetupRemote' in 'git help config'.\n",
      "\n"
     ]
    }
   ],
   "source": [
    "!git add 20th_century_scrape.ipynb 20th_century_events.txt  \n",
    "!git commit -m \"Scraped and saved 20th century events\"  \n",
    "!git push  "
   ]
  },
  {
   "cell_type": "code",
   "execution_count": 9,
   "id": "f7c7c385-66c9-47da-8caa-2589851d19dc",
   "metadata": {},
   "outputs": [
    {
     "name": "stdout",
     "output_type": "stream",
     "text": [
      "One hundred years, from 1901 to 2000\n",
      "For other uses, see 20th century (disambiguation).\n",
      "Earthrise, taken on December 24, 1968 by astronaut William \"Bill\" Anders during the Apollo 8 space mission. It was the first photograph taken of Earth from lunar orbit.\n",
      "\n",
      "Millennia\n",
      "2nd millennium\n",
      "\n",
      "Centuries\n",
      "19th century\n",
      "20th century\n",
      "21st century\n",
      "\n",
      "Timelines\n",
      "19th century\n",
      "20th century\n",
      "21st century\n",
      "\n",
      "State leaders\n",
      "19th century\n",
      "20th century\n"
     ]
    }
   ],
   "source": [
    "with open('20th_century_events.txt', 'r', encoding='utf-8') as f:  \n",
    "    for i in range(20):  \n",
    "        print(f.readline().strip())  "
   ]
  },
  {
   "cell_type": "code",
   "execution_count": 11,
   "id": "ce9ef1c1-f6d2-43b8-b4e0-c342e8ba92c2",
   "metadata": {},
   "outputs": [
    {
     "name": "stdout",
     "output_type": "stream",
     "text": [
      "Collecting pandas\n",
      "  Downloading pandas-2.0.3-cp38-cp38-macosx_10_9_x86_64.whl.metadata (18 kB)\n",
      "Requirement already satisfied: python-dateutil>=2.8.2 in /Applications/anaconda3/envs/20th_century/lib/python3.8/site-packages (from pandas) (2.9.0.post0)\n",
      "Requirement already satisfied: pytz>=2020.1 in /Applications/anaconda3/envs/20th_century/lib/python3.8/site-packages (from pandas) (2024.1)\n",
      "Collecting tzdata>=2022.1 (from pandas)\n",
      "  Using cached tzdata-2025.2-py2.py3-none-any.whl.metadata (1.4 kB)\n",
      "Collecting numpy>=1.20.3 (from pandas)\n",
      "  Downloading numpy-1.24.4-cp38-cp38-macosx_10_9_x86_64.whl.metadata (5.6 kB)\n",
      "Requirement already satisfied: six>=1.5 in /Applications/anaconda3/envs/20th_century/lib/python3.8/site-packages (from python-dateutil>=2.8.2->pandas) (1.16.0)\n",
      "Downloading pandas-2.0.3-cp38-cp38-macosx_10_9_x86_64.whl (11.7 MB)\n",
      "\u001b[2K   \u001b[90m━━━━━━━━━━━━━━━━━━━━━━━━━━━━━━━━━━━━━━━━\u001b[0m \u001b[32m11.7/11.7 MB\u001b[0m \u001b[31m3.6 MB/s\u001b[0m eta \u001b[36m0:00:00\u001b[0m00:01\u001b[0m00:01\u001b[0m\n",
      "Downloading numpy-1.24.4-cp38-cp38-macosx_10_9_x86_64.whl (19.8 MB)\n",
      "\u001b[2K   \u001b[90m━━━━━━━━━━━━━━━━━━━━━━━━━━━━━━━━━━━━━━━━\u001b[0m \u001b[32m19.8/19.8 MB\u001b[0m \u001b[31m5.2 MB/s\u001b[0m eta \u001b[36m0:00:00\u001b[0ma \u001b[36m0:00:01\u001b[0m\n",
      "\u001b[?25hUsing cached tzdata-2025.2-py2.py3-none-any.whl (347 kB)\n",
      "Installing collected packages: tzdata, numpy, pandas\n",
      "Successfully installed numpy-1.24.4 pandas-2.0.3 tzdata-2025.2\n",
      "Note: you may need to restart the kernel to use updated packages.\n",
      "Pandas installation complete. Please restart your kernel before continuing.\n"
     ]
    }
   ],
   "source": [
    "# Install pandas\n",
    "%pip install pandas\n",
    "\n",
    "print(\"Pandas installation complete. Please restart your kernel before continuing.\")"
   ]
  },
  {
   "cell_type": "code",
   "execution_count": 12,
   "id": "2c34ea8a-551f-49cf-9f86-8884d0677a95",
   "metadata": {},
   "outputs": [],
   "source": [
    "import re  \n",
    "import pandas as pd \n",
    "# Read the file  \n",
    "with open('20th_century_events.txt', 'r', encoding='utf-8') as f:  \n",
    "    text = f.read()  "
   ]
  },
  {
   "cell_type": "code",
   "execution_count": 13,
   "id": "e7effbe3-403f-4bd7-9d69-51bf39213d5b",
   "metadata": {},
   "outputs": [],
   "source": [
    "# Example: Extract lines that look like years followed by event descriptions  \n",
    "events = re.findall(r'(\\\\b19\\\\d{2}\\\\b|\\\\b20\\\\d{2}\\\\b)[^\\\\n]*', text)  "
   ]
  },
  {
   "cell_type": "code",
   "execution_count": 14,
   "id": "9c36e571-bdcf-480f-bbb7-bcc2f4c0825b",
   "metadata": {},
   "outputs": [
    {
     "name": "stdout",
     "output_type": "stream",
     "text": [
      "Empty DataFrame\n",
      "Columns: [Event]\n",
      "Index: []\n"
     ]
    }
   ],
   "source": [
    "# Create a DataFrame  \n",
    "df_events = pd.DataFrame(events, columns=['Event'])  \n",
    "print(df_events.head())  "
   ]
  },
  {
   "cell_type": "code",
   "execution_count": null,
   "id": "b4d29bea-d4a4-4102-a2e3-5e1a1daf2842",
   "metadata": {},
   "outputs": [],
   "source": []
  }
 ],
 "metadata": {
  "kernelspec": {
   "display_name": "Python (20th_century)",
   "language": "python",
   "name": "20th_century"
  },
  "language_info": {
   "codemirror_mode": {
    "name": "ipython",
    "version": 3
   },
   "file_extension": ".py",
   "mimetype": "text/x-python",
   "name": "python",
   "nbconvert_exporter": "python",
   "pygments_lexer": "ipython3",
   "version": "3.8.20"
  }
 },
 "nbformat": 4,
 "nbformat_minor": 5
}
