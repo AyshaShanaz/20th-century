{
 "cells": [
  {
   "cell_type": "code",
   "execution_count": 23,
   "id": "b88b6127-fda4-435e-a0dc-7e2975109a7b",
   "metadata": {},
   "outputs": [
    {
     "name": "stdout",
     "output_type": "stream",
     "text": [
      "Requirement already satisfied: requests in /Applications/anaconda3/envs/20th_century/lib/python3.8/site-packages (2.32.3)\n",
      "Requirement already satisfied: beautifulsoup4 in /Applications/anaconda3/envs/20th_century/lib/python3.8/site-packages (4.12.3)\n",
      "Requirement already satisfied: pandas in /Applications/anaconda3/envs/20th_century/lib/python3.8/site-packages (2.0.3)\n",
      "Collecting matplotlib\n",
      "  Downloading matplotlib-3.7.5-cp38-cp38-macosx_10_12_x86_64.whl.metadata (5.7 kB)\n",
      "Requirement already satisfied: charset-normalizer<4,>=2 in /Applications/anaconda3/envs/20th_century/lib/python3.8/site-packages (from requests) (3.3.2)\n",
      "Requirement already satisfied: idna<4,>=2.5 in /Applications/anaconda3/envs/20th_century/lib/python3.8/site-packages (from requests) (3.7)\n",
      "Requirement already satisfied: urllib3<3,>=1.21.1 in /Applications/anaconda3/envs/20th_century/lib/python3.8/site-packages (from requests) (2.2.3)\n",
      "Requirement already satisfied: certifi>=2017.4.17 in /Applications/anaconda3/envs/20th_century/lib/python3.8/site-packages (from requests) (2024.8.30)\n",
      "Requirement already satisfied: soupsieve>1.2 in /Applications/anaconda3/envs/20th_century/lib/python3.8/site-packages (from beautifulsoup4) (2.5)\n",
      "Requirement already satisfied: python-dateutil>=2.8.2 in /Applications/anaconda3/envs/20th_century/lib/python3.8/site-packages (from pandas) (2.9.0.post0)\n",
      "Requirement already satisfied: pytz>=2020.1 in /Applications/anaconda3/envs/20th_century/lib/python3.8/site-packages (from pandas) (2024.1)\n",
      "Requirement already satisfied: tzdata>=2022.1 in /Applications/anaconda3/envs/20th_century/lib/python3.8/site-packages (from pandas) (2025.2)\n",
      "Requirement already satisfied: numpy>=1.20.3 in /Applications/anaconda3/envs/20th_century/lib/python3.8/site-packages (from pandas) (1.24.4)\n",
      "Collecting contourpy>=1.0.1 (from matplotlib)\n",
      "  Downloading contourpy-1.1.1-cp38-cp38-macosx_10_9_x86_64.whl.metadata (5.9 kB)\n",
      "Collecting cycler>=0.10 (from matplotlib)\n",
      "  Using cached cycler-0.12.1-py3-none-any.whl.metadata (3.8 kB)\n",
      "Collecting fonttools>=4.22.0 (from matplotlib)\n",
      "  Downloading fonttools-4.57.0-cp38-cp38-macosx_10_9_x86_64.whl.metadata (102 kB)\n",
      "Collecting kiwisolver>=1.0.1 (from matplotlib)\n",
      "  Downloading kiwisolver-1.4.7-cp38-cp38-macosx_10_9_x86_64.whl.metadata (6.3 kB)\n",
      "Requirement already satisfied: packaging>=20.0 in /Applications/anaconda3/envs/20th_century/lib/python3.8/site-packages (from matplotlib) (24.1)\n",
      "Collecting pillow>=6.2.0 (from matplotlib)\n",
      "  Downloading pillow-10.4.0-cp38-cp38-macosx_10_10_x86_64.whl.metadata (9.2 kB)\n",
      "Collecting pyparsing>=2.3.1 (from matplotlib)\n",
      "  Downloading pyparsing-3.1.4-py3-none-any.whl.metadata (5.1 kB)\n",
      "Requirement already satisfied: importlib-resources>=3.2.0 in /Applications/anaconda3/envs/20th_century/lib/python3.8/site-packages (from matplotlib) (6.4.0)\n",
      "Requirement already satisfied: zipp>=3.1.0 in /Applications/anaconda3/envs/20th_century/lib/python3.8/site-packages (from importlib-resources>=3.2.0->matplotlib) (3.20.2)\n",
      "Requirement already satisfied: six>=1.5 in /Applications/anaconda3/envs/20th_century/lib/python3.8/site-packages (from python-dateutil>=2.8.2->pandas) (1.16.0)\n",
      "Downloading matplotlib-3.7.5-cp38-cp38-macosx_10_12_x86_64.whl (7.4 MB)\n",
      "\u001b[2K   \u001b[90m━━━━━━━━━━━━━━━━━━━━━━━━━━━━━━━━━━━━━━━━\u001b[0m \u001b[32m7.4/7.4 MB\u001b[0m \u001b[31m3.8 MB/s\u001b[0m eta \u001b[36m0:00:00\u001b[0m00:01\u001b[0m00:01\u001b[0mm\n",
      "Downloading contourpy-1.1.1-cp38-cp38-macosx_10_9_x86_64.whl (247 kB)\n",
      "Using cached cycler-0.12.1-py3-none-any.whl (8.3 kB)\n",
      "Downloading fonttools-4.57.0-cp38-cp38-macosx_10_9_x86_64.whl (2.3 MB)\n",
      "\u001b[2K   \u001b[90m━━━━━━━━━━━━━━━━━━━━━━━━━━━━━━━━━━━━━━━━\u001b[0m \u001b[32m2.3/2.3 MB\u001b[0m \u001b[31m4.6 MB/s\u001b[0m eta \u001b[36m0:00:00\u001b[0ma \u001b[36m0:00:01\u001b[0mm\n",
      "Downloading kiwisolver-1.4.7-cp38-cp38-macosx_10_9_x86_64.whl (65 kB)\n",
      "Downloading pillow-10.4.0-cp38-cp38-macosx_10_10_x86_64.whl (3.5 MB)\n",
      "\u001b[2K   \u001b[90m━━━━━━━━━━━━━━━━━━━━━━━━━━━━━━━━━━━━━━━━\u001b[0m \u001b[32m3.5/3.5 MB\u001b[0m \u001b[31m5.3 MB/s\u001b[0m eta \u001b[36m0:00:00\u001b[0ma \u001b[36m0:00:01\u001b[0mm\n",
      "\u001b[?25hDownloading pyparsing-3.1.4-py3-none-any.whl (104 kB)\n",
      "Installing collected packages: pyparsing, pillow, kiwisolver, fonttools, cycler, contourpy, matplotlib\n",
      "Successfully installed contourpy-1.1.1 cycler-0.12.1 fonttools-4.57.0 kiwisolver-1.4.7 matplotlib-3.7.5 pillow-10.4.0 pyparsing-3.1.4\n",
      "Note: you may need to restart the kernel to use updated packages.\n"
     ]
    }
   ],
   "source": [
    "\n",
    "%pip install requests beautifulsoup4 pandas matplotlib  "
   ]
  },
  {
   "cell_type": "code",
   "execution_count": 24,
   "id": "eac39ef7-a006-46cf-a677-88a63cf2c17f",
   "metadata": {},
   "outputs": [
    {
     "name": "stdout",
     "output_type": "stream",
     "text": [
      "All libraries imported successfully\n"
     ]
    }
   ],
   "source": [
    "import requests  \n",
    "from bs4 import BeautifulSoup  \n",
    "import pandas as pd  \n",
    "import re  \n",
    "import matplotlib.pyplot as plt  \n",
    "  \n",
    "print(\"All libraries imported successfully\") "
   ]
  },
  {
   "cell_type": "code",
   "execution_count": 25,
   "id": "8fd9cde2-527e-4881-96aa-80561ff51a67",
   "metadata": {},
   "outputs": [],
   "source": [
    "# Scrape Wikipedia page  \n",
    "url = \"https://en.wikipedia.org/wiki/20th_century\"  \n",
    "response = requests.get(url)  \n",
    "soup = BeautifulSoup(response.content, 'html.parser')"
   ]
  },
  {
   "cell_type": "code",
   "execution_count": 26,
   "id": "56d31a93-a05e-48bd-97df-66a54df50c32",
   "metadata": {},
   "outputs": [],
   "source": [
    "# Extract the main content  \n",
    "content = soup.find(id=\"mw-content-text\").get_text()  "
   ]
  },
  {
   "cell_type": "code",
   "execution_count": 28,
   "id": "1f3b08eb-6f79-494e-95f8-355c6b90ceb4",
   "metadata": {},
   "outputs": [
    {
     "name": "stdout",
     "output_type": "stream",
     "text": [
      "Content scraped and saved to 20th_century_events.txt\n"
     ]
    }
   ],
   "source": [
    "# Save the content to a text file  \n",
    "with open('20th_century_events.txt', 'w', encoding='utf-8') as f:  \n",
    "    f.write(content) \n",
    "\n",
    "    print(\"Content scraped and saved to 20th_century_events.txt\")  "
   ]
  },
  {
   "cell_type": "code",
   "execution_count": 29,
   "id": "2e06e7e9-68b5-45b2-b490-abb1bcc25248",
   "metadata": {},
   "outputs": [
    {
     "name": "stdout",
     "output_type": "stream",
     "text": [
      "One hundred years, from 1901 to 2000\n",
      "For other uses, see 20th century (disambiguation).\n",
      "Earthrise, taken on December 24, 1968 by astronaut William \"Bill\" Anders during the Apollo 8 space mission. It was the first photograph taken of Earth from lunar orbit.\n",
      "Millennia\n",
      "2nd millennium\n",
      "Centuries\n",
      "19th century\n",
      "20th century\n",
      "21st century\n",
      "Timelines\n",
      "19th century\n",
      "20th century\n",
      "21st century\n",
      "State leaders\n",
      "19th century\n",
      "20th century\n"
     ]
    }
   ],
   "source": [
    "# Preview first 20 lines  \n",
    "with open('20th_century_events.txt', 'r', encoding='utf-8') as f:  \n",
    "    for i in range(20):  \n",
    "        line = f.readline().strip()  \n",
    "        if line:  # Only print non-empty lines  \n",
    "            print(line) "
   ]
  },
  {
   "cell_type": "code",
   "execution_count": 30,
   "id": "9e0ba839-8141-4718-83bc-d157c7e76b7f",
   "metadata": {},
   "outputs": [],
   "source": [
    "# Read the file and extract events  \n",
    "with open('20th_century_events.txt', 'r', encoding='utf-8') as f:  \n",
    "    text = f.read()  "
   ]
  },
  {
   "cell_type": "code",
   "execution_count": 31,
   "id": "43eba150-8d28-4a45-88cc-da4077818856",
   "metadata": {},
   "outputs": [],
   "source": [
    "# Extract lines with years  \n",
    "events = re.findall(r'(\\b19\\d{2}\\b|\\b20\\d{2}\\b)[^\\n]*', text)  \n",
    "df_events = pd.DataFrame(events, columns=['Event']) "
   ]
  },
  {
   "cell_type": "code",
   "execution_count": 32,
   "id": "c22cd7bf-b0f5-45a1-a39c-913c4a4cee20",
   "metadata": {},
   "outputs": [
    {
     "name": "stdout",
     "output_type": "stream",
     "text": [
      "First 10 events found:\n",
      "  Event\n",
      "0  1901\n",
      "1  1968\n",
      "2  1901\n",
      "3  1914\n",
      "4  1945\n",
      "5  1945\n",
      "6  1991\n",
      "7  1963\n",
      "8  1972\n",
      "9  1901\n"
     ]
    }
   ],
   "source": [
    "# Display first 10 events  \n",
    "print(\"First 10 events found:\")  \n",
    "print(df_events.head(10))  "
   ]
  },
  {
   "cell_type": "code",
   "execution_count": 33,
   "id": "be5fab3a-ab77-4758-a333-d3acba038758",
   "metadata": {},
   "outputs": [],
   "source": [
    "# Extract years and create decade visualization  \n",
    "years = [re.search(r'(\\b19\\d{2}\\b|\\b20\\d{2}\\b)', event) for event in events]  \n",
    "years = [int(match.group()) for match in years if match]  "
   ]
  },
  {
   "cell_type": "code",
   "execution_count": 34,
   "id": "b83decfe-cf8f-435c-a633-0a8b15ac7445",
   "metadata": {},
   "outputs": [],
   "source": [
    "# Group by decade  \n",
    "decades = [year // 10 * 10 for year in years]  \n",
    "decade_counts = pd.Series(decades).value_counts().sort_index() "
   ]
  },
  {
   "cell_type": "code",
   "execution_count": 35,
   "id": "1c877220-15f0-47d7-9117-55b44e33ecb0",
   "metadata": {},
   "outputs": [
    {
     "data": {
      "image/png": "[encoded data removed]",
      "text/plain": [
       "<Figure size 1200x600 with 1 Axes>"
      ]
     },
     "metadata": {},
     "output_type": "display_data"
    }
   ],
   "source": [
    "# Create the plot  \n",
    "plt.figure(figsize=(12, 6))  \n",
    "plt.bar(decade_counts.index.astype(str), decade_counts.values, color='skyblue')  \n",
    "plt.xlabel('Decade', fontsize=12)  \n",
    "plt.ylabel('Number of Events', fontsize=12)  \n",
    "plt.title('Number of Key Events per Decade (20th Century)', fontsize=14)  \n",
    "plt.xticks(rotation=45)  \n",
    "plt.grid(axis='y', linestyle='--', alpha=0.7)  \n",
    "plt.tight_layout() "
   ]
  },
  {
   "cell_type": "code",
   "execution_count": 36,
   "id": "03ffa11c-5961-42b3-847a-df46716afc6d",
   "metadata": {},
   "outputs": [],
   "source": [
    "# Show the plot  \n",
    "plt.show()  "
   ]
  },
  {
   "cell_type": "code",
   "execution_count": 37,
   "id": "cfc90004-1be4-45d0-a989-ef6c1cfa7e99",
   "metadata": {},
   "outputs": [
    {
     "name": "stdout",
     "output_type": "stream",
     "text": [
      "\n",
      "Decade-wise event counts:\n",
      "1900    24\n",
      "1910    23\n",
      "1920    18\n",
      "1930    23\n",
      "1940    17\n",
      "1950    22\n",
      "1960    20\n",
      "1970    24\n",
      "1980    15\n",
      "1990    26\n",
      "2000    22\n",
      "2010    22\n",
      "2020    11\n",
      "Name: count, dtype: int64\n"
     ]
    }
   ],
   "source": [
    "# Print decade-wise counts  \n",
    "print(\"\\nDecade-wise event counts:\")  \n",
    "print(decade_counts.sort_index())  "
   ]
  },
  {
   "cell_type": "code",
   "execution_count": 38,
   "id": "0893b442-c6af-4270-bd80-7420fcfb0bd0",
   "metadata": {},
   "outputs": [
    {
     "name": "stdout",
     "output_type": "stream",
     "text": [
      "Events saved to 20th_century_events.csv\n"
     ]
    }
   ],
   "source": [
    "# Save the events to a CSV file  \n",
    "df_events.to_csv('20th_century_events.csv', index=False)  \n",
    "print(\"Events saved to 20th_century_events.csv\") "
   ]
  },
  {
   "cell_type": "code",
   "execution_count": 39,
   "id": "deaf5a29-2076-4379-9aab-2a06093a255d",
   "metadata": {},
   "outputs": [
    {
     "name": "stdout",
     "output_type": "stream",
     "text": [
      "Reinitialized existing Git repository in /Users/ayshashanazsamsudeen/20th-century/.git/\n"
     ]
    }
   ],
   "source": [
    "# Initialize git if not already done  \n",
    "!git init  \n",
    "  "
   ]
  },
  {
   "cell_type": "code",
   "execution_count": 42,
   "id": "76cbb5f1-bb3e-4311-9301-15b30c61be95",
   "metadata": {},
   "outputs": [],
   "source": [
    "# Stage files for commit  \n",
    "!git add 20th_century_scrape.ipynb 20th_century_events.txt 20th_century_events.csv "
   ]
  },
  {
   "cell_type": "code",
   "execution_count": 43,
   "id": "6e29c5db-f5e7-4565-9175-51afa211f3e0",
   "metadata": {},
   "outputs": [
    {
     "name": "stdout",
     "output_type": "stream",
     "text": [
      "[main f7b5de9] Added 20th century events analysis with visualization\n",
      " 2 files changed, 498 insertions(+), 140 deletions(-)\n",
      " create mode 100644 20th_century_events.csv\n"
     ]
    }
   ],
   "source": [
    "# Commit your changes with a descriptive message  \n",
    "!git commit -m \"Added 20th century events analysis with visualization\"  "
   ]
  },
  {
   "cell_type": "code",
   "execution_count": 45,
   "id": "21b08752-1c86-410e-9e65-deb0a88c5185",
   "metadata": {},
   "outputs": [
    {
     "name": "stdout",
     "output_type": "stream",
     "text": [
      "remote: Enumerating objects: 3, done.\u001b[K\n",
      "remote: Counting objects: 100% (3/3), done.\u001b[K\n",
      "remote: Compressing objects: 100% (2/2), done.\u001b[K\n",
      "remote: Total 3 (delta 0), reused 3 (delta 0), pack-reused 0 (from 0)\u001b[K\n",
      "Unpacking objects: 100% (3/3), 745 bytes | 149.00 KiB/s, done.\n",
      "From github.com:AyshaShanaz/20th-century\n",
      " * branch            main       -> FETCH_HEAD\n",
      " * [new branch]      main       -> origin/main\n",
      "\u001b[33mhint: You have divergent branches and need to specify how to reconcile them.\u001b[m\n",
      "\u001b[33mhint: You can do so by running one of the following commands sometime before\u001b[m\n",
      "\u001b[33mhint: your next pull:\u001b[m\n",
      "\u001b[33mhint: \u001b[m\n",
      "\u001b[33mhint:   git config pull.rebase false  # merge\u001b[m\n",
      "\u001b[33mhint:   git config pull.rebase true   # rebase\u001b[m\n",
      "\u001b[33mhint:   git config pull.ff only       # fast-forward only\u001b[m\n",
      "\u001b[33mhint: \u001b[m\n",
      "\u001b[33mhint: You can replace \"git config\" with \"git config --global\" to set a default\u001b[m\n",
      "\u001b[33mhint: preference for all repositories. You can also pass --rebase, --no-rebase,\u001b[m\n",
      "\u001b[33mhint: or --ff-only on the command line to override the configured default per\u001b[m\n",
      "\u001b[33mhint: invocation.\u001b[m\n",
      "fatal: Need to specify how to reconcile divergent branches.\n"
     ]
    }
   ],
   "source": [
    "# First, pull the remote changes  \n",
    "!git pull origin main --allow-unrelated-histories  "
   ]
  },
  {
   "cell_type": "code",
   "execution_count": 46,
   "id": "f488677e-64dc-4f97-9ab3-bcdf38d0f303",
   "metadata": {},
   "outputs": [],
   "source": [
    "# Then stage your files again  \n",
    "!git add 20th_century_scrape.ipynb 20th_century_events.txt 20th_century_events.csv  "
   ]
  },
  {
   "cell_type": "code",
   "execution_count": 47,
   "id": "ba412cdb-bfec-4222-a747-16ca9ce78e4a",
   "metadata": {},
   "outputs": [
    {
     "name": "stdout",
     "output_type": "stream",
     "text": [
      "[main c39fd36] Added 20th century events analysis with visualization\n",
      " 1 file changed, 33 insertions(+), 1 deletion(-)\n"
     ]
    }
   ],
   "source": [
    "# Commit your changes  \n",
    "!git commit -m \"Added 20th century events analysis with visualization\" "
   ]
  },
  {
   "cell_type": "code",
   "execution_count": 48,
   "id": "108c5ec6-488f-4838-b763-1aefa6ee78e8",
   "metadata": {},
   "outputs": [
    {
     "name": "stdout",
     "output_type": "stream",
     "text": [
      "To github.com:AyshaShanaz/20th-century.git\n",
      " \u001b[31m! [rejected]       \u001b[m main -> main (non-fast-forward)\n",
      "\u001b[31merror: failed to push some refs to 'github.com:AyshaShanaz/20th-century.git'\n",
      "\u001b[m\u001b[33mhint: Updates were rejected because the tip of your current branch is behind\u001b[m\n",
      "\u001b[33mhint: its remote counterpart. Integrate the remote changes (e.g.\u001b[m\n",
      "\u001b[33mhint: 'git pull ...') before pushing again.\u001b[m\n",
      "\u001b[33mhint: See the 'Note about fast-forwards' in 'git push --help' for details.\u001b[m\n"
     ]
    }
   ],
   "source": [
    "# Finally, push your changes  \n",
    "!git push origin main "
   ]
  },
  {
   "cell_type": "code",
   "execution_count": 49,
   "id": "3652283c-9251-49b8-8f12-68532fe141c2",
   "metadata": {},
   "outputs": [
    {
     "name": "stdout",
     "output_type": "stream",
     "text": [
      "origin\tgit@github.com:AyshaShanaz/20th-century.git (fetch)\n",
      "origin\tgit@github.com:AyshaShanaz/20th-century.git (push)\n"
     ]
    }
   ],
   "source": [
    "!git remote -v  \n"
   ]
  },
  {
   "cell_type": "code",
   "execution_count": 50,
   "id": "b45db36b-5ff3-44a8-9fd6-5a92b3c41513",
   "metadata": {},
   "outputs": [
    {
     "name": "stdout",
     "output_type": "stream",
     "text": [
      "From github.com:AyshaShanaz/20th-century\n",
      " * branch            main       -> FETCH_HEAD\n"
     ]
    }
   ],
   "source": [
    "# Fetch the remote changes  \n",
    "!git fetch origin main  "
   ]
  },
  {
   "cell_type": "code",
   "execution_count": 51,
   "id": "28e7c36e-d783-42e5-8c1b-a6ae569d79ec",
   "metadata": {},
   "outputs": [],
   "source": [
    "# Set up git configuration (needed for pull)  \n",
    "!git config --global user.email \"shanazdeen91@gmail.com\"  \n",
    "!git config --global user.name \"AyshaShanaz\" "
   ]
  },
  {
   "cell_type": "code",
   "execution_count": 52,
   "id": "30703475-0b90-4033-8f39-250e47c160bb",
   "metadata": {},
   "outputs": [
    {
     "name": "stdout",
     "output_type": "stream",
     "text": [
      "From github.com:AyshaShanaz/20th-century\n",
      " * branch            main       -> FETCH_HEAD\n",
      "\u001b[33mhint: You have divergent branches and need to specify how to reconcile them.\u001b[m\n",
      "\u001b[33mhint: You can do so by running one of the following commands sometime before\u001b[m\n",
      "\u001b[33mhint: your next pull:\u001b[m\n",
      "\u001b[33mhint: \u001b[m\n",
      "\u001b[33mhint:   git config pull.rebase false  # merge\u001b[m\n",
      "\u001b[33mhint:   git config pull.rebase true   # rebase\u001b[m\n",
      "\u001b[33mhint:   git config pull.ff only       # fast-forward only\u001b[m\n",
      "\u001b[33mhint: \u001b[m\n",
      "\u001b[33mhint: You can replace \"git config\" with \"git config --global\" to set a default\u001b[m\n",
      "\u001b[33mhint: preference for all repositories. You can also pass --rebase, --no-rebase,\u001b[m\n",
      "\u001b[33mhint: or --ff-only on the command line to override the configured default per\u001b[m\n",
      "\u001b[33mhint: invocation.\u001b[m\n",
      "fatal: Need to specify how to reconcile divergent branches.\n"
     ]
    }
   ],
   "source": [
    "# Pull with allow unrelated histories  \n",
    "!git pull origin main --allow-unrelated-histories "
   ]
  },
  {
   "cell_type": "code",
   "execution_count": 53,
   "id": "97db5431-9263-4934-910b-b703f7420e2d",
   "metadata": {},
   "outputs": [],
   "source": [
    "# 1. First, set the pull strategy to merge  \n",
    "!git config pull.rebase false "
   ]
  },
  {
   "cell_type": "code",
   "execution_count": 54,
   "id": "f6813dcc-b45e-4861-ab62-210b456c7abb",
   "metadata": {},
   "outputs": [],
   "source": [
    "# 2. Configure your git identity (replace with your actual email)  \n",
    "!git config --global user.email \"shanazdeen91@gmail.com\"  \n",
    "!git config --global user.name \"AyshaShanaz\""
   ]
  },
  {
   "cell_type": "code",
   "execution_count": null,
   "id": "252518c2-2e6b-458e-bbf3-9faaa8a9fc8f",
   "metadata": {},
   "outputs": [
    {
     "name": "stdout",
     "output_type": "stream",
     "text": [
      "From github.com:AyshaShanaz/20th-century\n",
      " * branch            main       -> FETCH_HEAD\n",
      "hint: Waiting for your editor to close the file... \u001b7\u001b[?47h\u001b[>4;2m\u001b[?1h\u001b=\u001b[?2004h\u001b[?1004h\u001b[1;24r\u001b[?12h\u001b[?12l\u001b[22;2t\u001b[22;1t\u001b[29m\u001b[m\u001b[H\u001b[2J\u001b[?25l\u001b[24;1H\"~/20th-century/.git/MERGE_MSG\" 6L, 285B\u001b[2;1H▽\u001b[6n\u001b[2;1H  \u001b[3;1H\u001bPzz\u001b\\\u001b[0%m\u001b[6n\u001b[3;1H           \u001b[1;1H\u001b[>c\u001b]10;?\u0007\u001b]11;?\u0007\u001b[1;1HMerge branch 'main' of github.com:AyshaShanaz/20th-century\n",
      "# Please enter a commit message to explain why this merge is necessary,\u001b[2;72H\u001b[K\u001b[3;1H# especially if it merges an updated upstream into a topic branch.\u001b[3;67H\u001b[K\u001b[4;1H#\n",
      "# Lines starting with '#' will be ignored, and an empty message aborts\n",
      "# the commit.\n",
      "\u001b[1m\u001b[34m~                                                                               \u001b[8;1H~                                                                               \u001b[9;1H~                                                                               \u001b[10;1H~                                                                               \u001b[11;1H~                                                                               \u001b[12;1H~                                                                               \u001b[13;1H~                                                                               \u001b[14;1H~                                                                               \u001b[15;1H~                                                                               \u001b[16;1H~                                                                               \u001b[17;1H~                                                                               \u001b[18;1H~                                                                               \u001b[19;1H~                                                                               \u001b[20;1H~                                                                               \u001b[21;1H~                                                                               \u001b[22;1H~                                                                               \u001b[23;1H~                                                                               \u001b[1;1H\u001b[?25h\u001b[?4m"
     ]
    }
   ],
   "source": [
    "# 3. Pull with merge strategy  \n",
    "!git pull origin main --allow-unrelated-histories "
   ]
  },
  {
   "cell_type": "code",
   "execution_count": null,
   "id": "bbfdf4c9-8e50-43b8-bc51-2352a305ef4d",
   "metadata": {},
   "outputs": [],
   "source": []
  }
 ],
 "metadata": {
  "kernelspec": {
   "display_name": "Python (20th_century)",
   "language": "python",
   "name": "20th_century"
  },
  "language_info": {
   "codemirror_mode": {
    "name": "ipython",
    "version": 3
   },
   "file_extension": ".py",
   "mimetype": "text/x-python",
   "name": "python",
   "nbconvert_exporter": "python",
   "pygments_lexer": "ipython3",
   "version": "3.8.20"
  }
 },
 "nbformat": 4,
 "nbformat_minor": 5
}
