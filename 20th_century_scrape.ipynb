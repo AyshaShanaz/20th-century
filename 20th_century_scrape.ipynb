{
 "cells": [
  {
   "cell_type": "code",
   "execution_count": 1,
   "id": "649d4822-96f2-462c-8f2a-c5f13c1ce71a",
   "metadata": {},
   "outputs": [
    {
     "name": "stdout",
     "output_type": "stream",
     "text": [
      "Requirement already satisfied: requests in /Applications/anaconda3/lib/python3.12/site-packages (2.32.3)\n",
      "Requirement already satisfied: beautifulsoup4 in /Applications/anaconda3/lib/python3.12/site-packages (4.12.3)\n",
      "Requirement already satisfied: pandas in /Applications/anaconda3/lib/python3.12/site-packages (2.2.2)\n",
      "Requirement already satisfied: charset-normalizer<4,>=2 in /Applications/anaconda3/lib/python3.12/site-packages (from requests) (3.3.2)\n",
      "Requirement already satisfied: idna<4,>=2.5 in /Applications/anaconda3/lib/python3.12/site-packages (from requests) (3.7)\n",
      "Requirement already satisfied: urllib3<3,>=1.21.1 in /Applications/anaconda3/lib/python3.12/site-packages (from requests) (2.2.3)\n",
      "Requirement already satisfied: certifi>=2017.4.17 in /Applications/anaconda3/lib/python3.12/site-packages (from requests) (2025.1.31)\n",
      "Requirement already satisfied: soupsieve>1.2 in /Applications/anaconda3/lib/python3.12/site-packages (from beautifulsoup4) (2.5)\n",
      "Requirement already satisfied: numpy>=1.26.0 in /Applications/anaconda3/lib/python3.12/site-packages (from pandas) (1.26.4)\n",
      "Requirement already satisfied: python-dateutil>=2.8.2 in /Applications/anaconda3/lib/python3.12/site-packages (from pandas) (2.9.0.post0)\n",
      "Requirement already satisfied: pytz>=2020.1 in /Applications/anaconda3/lib/python3.12/site-packages (from pandas) (2024.1)\n",
      "Requirement already satisfied: tzdata>=2022.7 in /Applications/anaconda3/lib/python3.12/site-packages (from pandas) (2023.3)\n",
      "Requirement already satisfied: six>=1.5 in /Applications/anaconda3/lib/python3.12/site-packages (from python-dateutil>=2.8.2->pandas) (1.16.0)\n"
     ]
    }
   ],
   "source": [
    "\n",
    "!pip install requests beautifulsoup4 pandas  "
   ]
  },
  {
   "cell_type": "code",
   "execution_count": 2,
   "id": "ca6579a1-1458-4a76-add7-0f0aa9354db3",
   "metadata": {},
   "outputs": [],
   "source": [
    "import requests  \n",
    "from bs4 import BeautifulSoup  \n",
    "  \n",
    "url = \"https://en.wikipedia.org/wiki/20th_century\"  \n",
    "response = requests.get(url)  \n",
    "soup = BeautifulSoup(response.content, 'html.parser')  "
   ]
  },
  {
   "cell_type": "code",
   "execution_count": 3,
   "id": "1d95b3cf-527c-44a2-8261-b4a095f3b761",
   "metadata": {},
   "outputs": [],
   "source": [
    "  \n",
    "# Extract the main content  \n",
    "content = soup.find(id=\"mw-content-text\").get_text()  "
   ]
  },
  {
   "cell_type": "code",
   "execution_count": 4,
   "id": "25f5fa9e-92b6-46cf-bee6-e1bb4470140e",
   "metadata": {},
   "outputs": [],
   "source": [
    "# Save the content to a .txt file  \n",
    "with open('20th_century_events.txt', 'w', encoding='utf-8') as f:  \n",
    "    f.write(content)  "
   ]
  },
  {
   "cell_type": "code",
   "execution_count": 5,
   "id": "39d49a61-babc-405e-9186-c8616ffb2d1b",
   "metadata": {},
   "outputs": [
    {
     "name": "stdout",
     "output_type": "stream",
     "text": [
      "Content scraped and saved to 20th_century_events.txt\n"
     ]
    }
   ],
   "source": [
    "  \n",
    "print(\"Content scraped and saved to 20th_century_events.txt\") "
   ]
  },
  {
   "cell_type": "code",
   "execution_count": 6,
   "id": "5af04995-a204-4e4e-b58e-7f6b667bba3f",
   "metadata": {},
   "outputs": [
    {
     "name": "stdout",
     "output_type": "stream",
     "text": [
      "One hundred years, from 1901 to 2000\n",
      "For other uses, see 20th century (disambiguation).\n",
      "Earthrise, taken on December 24, 1968 by astronaut William \"Bill\" Anders during the Apollo 8 space mission. It was the first photograph taken of Earth from lunar orbit.\n",
      "\n",
      "Millennia\n",
      "2nd millennium\n",
      "\n",
      "Centuries\n",
      "19th century\n",
      "20th century\n"
     ]
    }
   ],
   "source": [
    "with open('20th_century_events.txt', 'r', encoding='utf-8') as f:  \n",
    "    for i in range(10):  \n",
    "        print(f.readline().strip()) "
   ]
  },
  {
   "cell_type": "code",
   "execution_count": 7,
   "id": "a3f75de4-db7a-44b2-bdf0-d9f63021810c",
   "metadata": {},
   "outputs": [
    {
     "ename": "SyntaxError",
     "evalue": "invalid syntax (1947875247.py, line 1)",
     "output_type": "error",
     "traceback": [
      "\u001b[0;36m  Cell \u001b[0;32mIn[7], line 1\u001b[0;36m\u001b[0m\n\u001b[0;31m    git add 20th_century_scrape.ipynb 20th_century_events.txt\u001b[0m\n\u001b[0m        ^\u001b[0m\n\u001b[0;31mSyntaxError\u001b[0m\u001b[0;31m:\u001b[0m invalid syntax\n"
     ]
    }
   ],
   "source": [
    "git add 20th_century_scrape.ipynb 20th_century_events.txt  \n",
    "git commit -m \"Scraped and saved 20th century events\"  \n",
    "git push "
   ]
  },
  {
   "cell_type": "code",
   "execution_count": null,
   "id": "56d35534-3e79-4867-9455-a3f00028748a",
   "metadata": {},
   "outputs": [],
   "source": []
  }
 ],
 "metadata": {
  "kernelspec": {
   "display_name": "Python (20th_century)",
   "language": "python",
   "name": "20th_century"
  },
  "language_info": {
   "codemirror_mode": {
    "name": "ipython",
    "version": 3
   },
   "file_extension": ".py",
   "mimetype": "text/x-python",
   "name": "python",
   "nbconvert_exporter": "python",
   "pygments_lexer": "ipython3",
   "version": "3.8.20"
  }
 },
 "nbformat": 4,
 "nbformat_minor": 5
}
