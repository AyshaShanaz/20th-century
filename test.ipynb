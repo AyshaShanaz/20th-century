{
 "cells": [
  {
   "cell_type": "markdown",
   "id": "625ae365",
   "metadata": {},
   "source": [
    "# Simple Addition Notebook\n",
    "\n",
    "This notebook demonstrates a basic calculation: $$1 + 1 = 2$$.\n",
    "\n",
    "We'll show the calculation in code and display the result."
   ]
  },
  {
   "cell_type": "code",
   "execution_count": null,
   "id": "e20d1be0",
   "metadata": {},
   "outputs": [],
   "source": [
    "# Calculate 1 + 1\n",
    "result = 1 + 1\n",
    "print('1 + 1 =', result)"
   ]
  },
  {
   "cell_type": "markdown",
   "id": "2fa707ee",
   "metadata": {},
   "source": [
    "As shown above, the result of adding 1 and 1 is $$2$$.\n",
    "\n",
    "This demonstrates a simple arithmetic operation in Python."
   ]
  }
 ],
 "metadata": {
  "kernelspec": {
   "display_name": "anaconda-panel-2023.05-py310",
   "language": "python",
   "name": "conda-env-anaconda-panel-2023.05-py310-py"
  },
  "language_info": {
   "codemirror_mode": {
    "name": "ipython",
    "version": 3
   },
   "file_extension": ".py",
   "mimetype": "text/x-python",
   "name": "python",
   "nbconvert_exporter": "python",
   "pygments_lexer": "ipython3",
   "version": "3.11.5"
  }
 },
 "nbformat": 4,
 "nbformat_minor": 5
}
